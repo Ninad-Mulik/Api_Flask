{
 "cells": [
  {
   "cell_type": "code",
   "execution_count": 1,
   "id": "755a639b",
   "metadata": {},
   "outputs": [],
   "source": [
    "from flask import Flask,request"
   ]
  },
  {
   "cell_type": "code",
   "execution_count": 2,
   "id": "cd47fb8c",
   "metadata": {},
   "outputs": [],
   "source": [
    "app = Flask(__name__)"
   ]
  },
  {
   "cell_type": "code",
   "execution_count": 3,
   "id": "0e917557",
   "metadata": {},
   "outputs": [],
   "source": [
    "@app.route('/',methods=['Post'])\n",
    "def string():\n",
    "    if request.method == 'POST':\n",
    "        \n",
    "        s=request.form.get('s')\n",
    "        x=int(request.form.get('x'))\n",
    "        find = stringie_thing(s,x)\n",
    "        \n",
    "        return str(find)\n",
    "    "
   ]
  },
  {
   "cell_type": "code",
   "execution_count": 4,
   "id": "4ad5b5b1",
   "metadata": {},
   "outputs": [],
   "source": [
    "def stringie_thing(s, x):\n",
    "    max_length = 0   \n",
    "    longest_substring = \"\"  \n",
    "    for i in range(len(s)):\n",
    "        current_substring = \"\"  \n",
    "        for k in range(i, min(len(s), i + x)):  \n",
    "            if s[k] not in current_substring:  \n",
    "                current_substring += s[k]  \n",
    "            else:  \n",
    "                break  \n",
    "        if len(current_substring) > max_length:  \n",
    "            max_length = len(current_substring)  \n",
    "            longest_substring = current_substring  \n",
    "    return longest_substring  "
   ]
  },
  {
   "cell_type": "code",
   "execution_count": 5,
   "id": "2187501c",
   "metadata": {},
   "outputs": [
    {
     "name": "stdout",
     "output_type": "stream",
     "text": [
      " * Serving Flask app '__main__'\n",
      " * Debug mode: off\n"
     ]
    },
    {
     "name": "stderr",
     "output_type": "stream",
     "text": [
      "WARNING: This is a development server. Do not use it in a production deployment. Use a production WSGI server instead.\n",
      " * Running on http://127.0.0.1:6874\n",
      "Press CTRL+C to quit\n",
      "[2024-04-22 20:37:06,135] ERROR in app: Exception on / [POST]\n",
      "Traceback (most recent call last):\n",
      "  File \"C:\\Anaconda\\Lib\\site-packages\\flask\\app.py\", line 2525, in wsgi_app\n",
      "    response = self.full_dispatch_request()\n",
      "               ^^^^^^^^^^^^^^^^^^^^^^^^^^^^\n",
      "  File \"C:\\Anaconda\\Lib\\site-packages\\flask\\app.py\", line 1822, in full_dispatch_request\n",
      "    rv = self.handle_user_exception(e)\n",
      "         ^^^^^^^^^^^^^^^^^^^^^^^^^^^^^\n",
      "  File \"C:\\Anaconda\\Lib\\site-packages\\flask\\app.py\", line 1820, in full_dispatch_request\n",
      "    rv = self.dispatch_request()\n",
      "         ^^^^^^^^^^^^^^^^^^^^^^^\n",
      "  File \"C:\\Anaconda\\Lib\\site-packages\\flask\\app.py\", line 1796, in dispatch_request\n",
      "    return self.ensure_sync(self.view_functions[rule.endpoint])(**view_args)\n",
      "           ^^^^^^^^^^^^^^^^^^^^^^^^^^^^^^^^^^^^^^^^^^^^^^^^^^^^^^^^^^^^^^^^^\n",
      "  File \"C:\\Users\\NINAD MULIK\\AppData\\Local\\Temp\\ipykernel_6192\\32001115.py\", line 6, in string\n",
      "    x=int(request.form.get('x'))\n",
      "      ^^^^^^^^^^^^^^^^^^^^^^^^^^\n",
      "TypeError: int() argument must be a string, a bytes-like object or a real number, not 'NoneType'\n",
      "127.0.0.1 - - [22/Apr/2024 20:37:06] \"POST / HTTP/1.1\" 500 -\n",
      "127.0.0.1 - - [22/Apr/2024 20:38:05] \"POST / HTTP/1.1\" 200 -\n"
     ]
    }
   ],
   "source": [
    "if __name__ == '__main__':\n",
    "    app.run(port=6874)"
   ]
  },
  {
   "cell_type": "markdown",
   "id": "63639bd5",
   "metadata": {},
   "source": [
    "Problem: Longest Substring Without Repeating Characters\n",
    "Given a string s, find the length of the longest substring without repeating characters.\n",
    "\n",
    "Example:\n",
    "\n",
    "Input: s = \"abcabcbb\"\n",
    "Output: 3\n",
    "Explanation: The answer is \"abc\", with the length of 3."
   ]
  },
  {
   "cell_type": "markdown",
   "id": "a4a9ae28",
   "metadata": {},
   "source": [
    "# a b c repeat if it happn to be again stop check for the previous chars if the repeating then put them in empty list\n",
    "# and boom answer?\n",
    "#itz not the question lol, i did'nt understood it well okay now i got it .. \n",
    "\n",
    "x=1\n",
    "\n",
    "def string_thing(s,x):\n",
    "    empty = []\n",
    "    for i in range(len(s)):\n",
    "        if s[i] == s[i+1] and s[i] == s[-1]:\n",
    "            break\n",
    "    for k in range(len(s)):\n",
    "        if s[k] != s[k+x]:\n",
    "            empty.append(s[k+x])\n",
    "            x+=1\n",
    "        if s[k] == s[k+x]:\n",
    "            empty.append(s[k])\n",
    "            break\n",
    "    return empty"
   ]
  },
  {
   "cell_type": "code",
   "execution_count": null,
   "id": "780ea12c",
   "metadata": {},
   "outputs": [],
   "source": []
  },
  {
   "cell_type": "code",
   "execution_count": null,
   "id": "8cb4fce8",
   "metadata": {},
   "outputs": [],
   "source": []
  }
 ],
 "metadata": {
  "kernelspec": {
   "display_name": "Python 3 (ipykernel)",
   "language": "python",
   "name": "python3"
  },
  "language_info": {
   "codemirror_mode": {
    "name": "ipython",
    "version": 3
   },
   "file_extension": ".py",
   "mimetype": "text/x-python",
   "name": "python",
   "nbconvert_exporter": "python",
   "pygments_lexer": "ipython3",
   "version": "3.11.5"
  }
 },
 "nbformat": 4,
 "nbformat_minor": 5
}
