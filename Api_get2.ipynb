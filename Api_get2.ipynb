{
 "cells": [
  {
   "cell_type": "code",
   "execution_count": 1,
   "id": "cef400fd",
   "metadata": {},
   "outputs": [],
   "source": [
    "from flask import Flask                      # importing the Flask function from flask lib"
   ]
  },
  {
   "cell_type": "code",
   "execution_count": 2,
   "id": "e47378d0",
   "metadata": {},
   "outputs": [],
   "source": [
    "app = Flask(__name__)                         # instace created"
   ]
  },
  {
   "cell_type": "code",
   "execution_count": 3,
   "id": "587132f5",
   "metadata": {},
   "outputs": [],
   "source": [
    "@app.route('/', methods = ['GET'])             # routing to the default method is get\n",
    "def intro():\n",
    "    return 'hello there'"
   ]
  },
  {
   "cell_type": "code",
   "execution_count": 4,
   "id": "4c0e826a",
   "metadata": {},
   "outputs": [],
   "source": [
    "@app.route('/welcome', methods = ['GET'])        # routing to the /welcome dir method is get\n",
    "def intro():\n",
    "def welcome():\n",
    "    return 'nice to meet yuh!'"
   ]
  },
  {
   "cell_type": "code",
   "execution_count": 5,
   "id": "692367be",
   "metadata": {},
   "outputs": [],
   "source": [
    "@app.route('/home', methods=['GET'])               \n",
    "def home():\n",
    "    return ['HOME','ABOUT','CONTACT']               # return value"
   ]
  },
  {
   "cell_type": "code",
   "execution_count": null,
   "id": "b3c10dfd",
   "metadata": {},
   "outputs": [
    {
     "name": "stdout",
     "output_type": "stream",
     "text": [
      " * Serving Flask app '__main__'\n",
      " * Debug mode: off\n"
     ]
    },
    {
     "name": "stderr",
     "output_type": "stream",
     "text": [
      "WARNING: This is a development server. Do not use it in a production deployment. Use a production WSGI server instead.\n",
      " * Running on http://127.0.0.1:9999\n",
      "Press CTRL+C to quit\n",
      "127.0.0.1 - - [31/Mar/2024 14:31:27] \"GET /welcome HTTP/1.1\" 200 -\n",
      "127.0.0.1 - - [31/Mar/2024 14:31:27] \"GET /welcome HTTP/1.1\" 200 -\n",
      "127.0.0.1 - - [31/Mar/2024 14:31:27] \"GET /welcome HTTP/1.1\" 200 -\n"
     ]
    }
   ],
   "source": [
    "if __name__ == '__main__':                            # condition to wat main \n",
    "    app.run(port=9999)           "
   ]
  },
  {
   "cell_type": "code",
   "execution_count": null,
   "id": "3c816e2a",
   "metadata": {},
   "outputs": [],
   "source": []
  }
 ],
 "metadata": {
  "kernelspec": {
   "display_name": "Python 3 (ipykernel)",
   "language": "python",
   "name": "python3"
  },
  "language_info": {
   "codemirror_mode": {
    "name": "ipython",
    "version": 3
   },
   "file_extension": ".py",
   "mimetype": "text/x-python",
   "name": "python",
   "nbconvert_exporter": "python",
   "pygments_lexer": "ipython3",
   "version": "3.11.5"
  }
 },
 "nbformat": 4,
 "nbformat_minor": 5
}
