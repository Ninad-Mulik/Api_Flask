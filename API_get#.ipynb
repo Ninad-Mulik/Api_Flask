{
 "cells": [
  {
   "cell_type": "code",
   "execution_count": 1,
   "id": "fdc57c35",
   "metadata": {},
   "outputs": [],
   "source": [
    "from flask import Flask\n",
    "import random"
   ]
  },
  {
   "cell_type": "code",
   "execution_count": 2,
   "id": "22dbadf4",
   "metadata": {},
   "outputs": [],
   "source": [
    "leme = Flask(__name__)"
   ]
  },
  {
   "cell_type": "code",
   "execution_count": 3,
   "id": "83b00494",
   "metadata": {},
   "outputs": [],
   "source": [
    "@leme.route('/inventory_guns')\n",
    "def gunz():\n",
    "   \n",
    "    stock = ['paro','ak','uzi']\n",
    "    \n",
    "    random_gun = random.choice(stock)\n",
    "    return random_gun"
   ]
  },
  {
   "cell_type": "code",
   "execution_count": 4,
   "id": "ba5302cf",
   "metadata": {},
   "outputs": [],
   "source": [
    "@leme.route('/inventory_mele')\n",
    "def mele():\n",
    "    hand_wep =['knife','butterfly_k','machete']\n",
    "    \n",
    "    random_knife = random.choice(hand_wep)\n",
    "    return random_knife"
   ]
  },
  {
   "cell_type": "code",
   "execution_count": 5,
   "id": "1f88c7e0",
   "metadata": {},
   "outputs": [],
   "source": [
    "@leme.route('/')\n",
    "def main():\n",
    "    any_gun = gunz()\n",
    "    any_mele = mele()\n",
    "    \n",
    "    return [any_gun,any_mele]"
   ]
  },
  {
   "cell_type": "code",
   "execution_count": null,
   "id": "99c5731f",
   "metadata": {},
   "outputs": [
    {
     "name": "stdout",
     "output_type": "stream",
     "text": [
      " * Serving Flask app '__main__'\n",
      " * Debug mode: off\n"
     ]
    },
    {
     "name": "stderr",
     "output_type": "stream",
     "text": [
      "WARNING: This is a development server. Do not use it in a production deployment. Use a production WSGI server instead.\n",
      " * Running on http://127.0.0.1:5005\n",
      "Press CTRL+C to quit\n",
      "127.0.0.1 - - [02/Apr/2024 22:53:15] \"GET / HTTP/1.1\" 200 -\n",
      "127.0.0.1 - - [02/Apr/2024 22:53:15] \"GET /favicon.ico HTTP/1.1\" 404 -\n",
      "127.0.0.1 - - [02/Apr/2024 22:53:17] \"GET / HTTP/1.1\" 200 -\n",
      "127.0.0.1 - - [02/Apr/2024 22:53:18] \"GET / HTTP/1.1\" 200 -\n",
      "127.0.0.1 - - [02/Apr/2024 22:53:18] \"GET / HTTP/1.1\" 200 -\n",
      "127.0.0.1 - - [02/Apr/2024 22:53:18] \"GET / HTTP/1.1\" 200 -\n",
      "127.0.0.1 - - [02/Apr/2024 22:53:18] \"GET / HTTP/1.1\" 200 -\n",
      "127.0.0.1 - - [02/Apr/2024 22:53:37] \"GET / HTTP/1.1\" 200 -\n",
      "127.0.0.1 - - [02/Apr/2024 22:53:38] \"GET / HTTP/1.1\" 200 -\n",
      "127.0.0.1 - - [02/Apr/2024 22:53:38] \"GET / HTTP/1.1\" 200 -\n",
      "127.0.0.1 - - [02/Apr/2024 22:53:40] \"GET / HTTP/1.1\" 200 -\n",
      "127.0.0.1 - - [02/Apr/2024 22:53:40] \"GET / HTTP/1.1\" 200 -\n"
     ]
    }
   ],
   "source": [
    "if __name__ == '__main__':\n",
    "    leme.run(port=5005)"
   ]
  },
  {
   "cell_type": "code",
   "execution_count": null,
   "id": "be019ac7",
   "metadata": {},
   "outputs": [],
   "source": []
  },
  {
   "cell_type": "code",
   "execution_count": null,
   "id": "a71b8c7e",
   "metadata": {},
   "outputs": [],
   "source": []
  }
 ],
 "metadata": {
  "kernelspec": {
   "display_name": "Python 3 (ipykernel)",
   "language": "python",
   "name": "python3"
  },
  "language_info": {
   "codemirror_mode": {
    "name": "ipython",
    "version": 3
   },
   "file_extension": ".py",
   "mimetype": "text/x-python",
   "name": "python",
   "nbconvert_exporter": "python",
   "pygments_lexer": "ipython3",
   "version": "3.11.5"
  }
 },
 "nbformat": 4,
 "nbformat_minor": 5
}
