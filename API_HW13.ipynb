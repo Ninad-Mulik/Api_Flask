{
 "cells": [
  {
   "cell_type": "code",
   "execution_count": 1,
   "id": "755a639b",
   "metadata": {},
   "outputs": [],
   "source": [
    "from flask import Flask,request"
   ]
  },
  {
   "cell_type": "code",
   "execution_count": 2,
   "id": "cd47fb8c",
   "metadata": {},
   "outputs": [],
   "source": [
    "app = Flask(__name__)"
   ]
  },
  {
   "cell_type": "code",
   "execution_count": 3,
   "id": "0e917557",
   "metadata": {},
   "outputs": [],
   "source": [
    "@app.route('/',methods=['POST'])\n",
    "def IS_PRIME():\n",
    "    \n",
    "    if request.method == 'POST':\n",
    "        n = int(request.form.get('n'))\n",
    "        prime = is_prime(n)\n",
    "        \n",
    "        return str(prime)"
   ]
  },
  {
   "cell_type": "code",
   "execution_count": 4,
   "id": "74b89a9f",
   "metadata": {},
   "outputs": [],
   "source": [
    "def is_prime(n):\n",
    "    \n",
    "    if n <= 1:\n",
    "        return False\n",
    "    \n",
    "    for i in range(2, int(n**0.5) + 1):\n",
    "        if n % i == 0:\n",
    "            return False\n",
    "        \n",
    "    return True"
   ]
  },
  {
   "cell_type": "code",
   "execution_count": null,
   "id": "0d263766",
   "metadata": {},
   "outputs": [
    {
     "name": "stdout",
     "output_type": "stream",
     "text": [
      " * Serving Flask app '__main__'\n",
      " * Debug mode: off\n"
     ]
    },
    {
     "name": "stderr",
     "output_type": "stream",
     "text": [
      "WARNING: This is a development server. Do not use it in a production deployment. Use a production WSGI server instead.\n",
      " * Running on http://127.0.0.1:1597\n",
      "Press CTRL+C to quit\n",
      "127.0.0.1 - - [19/Apr/2024 19:41:29] \"POST / HTTP/1.1\" 200 -\n",
      "127.0.0.1 - - [19/Apr/2024 19:41:34] \"POST / HTTP/1.1\" 200 -\n"
     ]
    }
   ],
   "source": [
    "if __name__ == '__main__':\n",
    "    app.run(port=1597)"
   ]
  },
  {
   "cell_type": "code",
   "execution_count": null,
   "id": "8f0804de",
   "metadata": {},
   "outputs": [],
   "source": []
  }
 ],
 "metadata": {
  "kernelspec": {
   "display_name": "Python 3 (ipykernel)",
   "language": "python",
   "name": "python3"
  },
  "language_info": {
   "codemirror_mode": {
    "name": "ipython",
    "version": 3
   },
   "file_extension": ".py",
   "mimetype": "text/x-python",
   "name": "python",
   "nbconvert_exporter": "python",
   "pygments_lexer": "ipython3",
   "version": "3.11.5"
  }
 },
 "nbformat": 4,
 "nbformat_minor": 5
}
