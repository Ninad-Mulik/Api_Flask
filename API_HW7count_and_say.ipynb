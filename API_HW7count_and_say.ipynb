{
 "cells": [
  {
   "cell_type": "code",
   "execution_count": null,
   "id": "a63c5d1d",
   "metadata": {},
   "outputs": [],
   "source": [
    "from flask import Flask"
   ]
  },
  {
   "cell_type": "code",
   "execution_count": null,
   "id": "278a51b6",
   "metadata": {},
   "outputs": [],
   "source": [
    "app = Flask(__name__)"
   ]
  },
  {
   "cell_type": "code",
   "execution_count": null,
   "id": "8f31aadf",
   "metadata": {},
   "outputs": [],
   "source": [
    "@app.route('/',methods=['POST'])\n",
    "def "
   ]
  },
  {
   "cell_type": "code",
   "execution_count": null,
   "id": "72088856",
   "metadata": {},
   "outputs": [],
   "source": [
    "def "
   ]
  },
  {
   "cell_type": "code",
   "execution_count": null,
   "id": "f4f0033a",
   "metadata": {},
   "outputs": [],
   "source": [
    "if __name__ == '__main__':\n",
    "    app.run(port=9874)"
   ]
  },
  {
   "cell_type": "markdown",
   "id": "e91e2435",
   "metadata": {},
   "source": [
    "\n",
    "the count-and-say sequence is a sequence of digit strings defined by the recursive formula\n",
    "countAndSay(1) = \"1\"\n",
    "countAndSay(n) is the way you would \"say\" the digit string from countAndSay(n-1), \n",
    "\n",
    "which is then converted into a different digit string.\n",
    "To determine how you \"say\" a digit string, split it into the minimal number of substrings \n",
    "such that each substring contains exactly one unique digit. \n",
    "Then for each substring, say the number of digits, then say the digit. Finally, concatenate every said digit.\n",
    "\n",
    "Example 1:\n",
    "\n",
    "Input: n = 1\n",
    "Output: \"1\"\n",
    "Explanation: This is the base case.\n",
    "Example 2:\n",
    "\n",
    "Input: n = 4\n",
    "Output: \"1211\"\n",
    "\n",
    "Explanation:\n",
    "\n",
    "countAndSay(1) = \"1\"\n",
    "countAndSay(2) = say \"1\" = one 1 = \"11\"\n",
    "countAndSay(3) = say \"11\" = two 1's = \"21\"\n",
    "countAndSay(4) = say \"21\" = one 2 + one 1 = \"12\" + \"11\" = \"1211\"\n"
   ]
  },
  {
   "cell_type": "code",
   "execution_count": null,
   "id": "630099aa",
   "metadata": {},
   "outputs": [],
   "source": [
    "def count_say(c):    \n",
    "    for i in range(1,c):"
   ]
  }
 ],
 "metadata": {
  "kernelspec": {
   "display_name": "Python 3 (ipykernel)",
   "language": "python",
   "name": "python3"
  },
  "language_info": {
   "codemirror_mode": {
    "name": "ipython",
    "version": 3
   },
   "file_extension": ".py",
   "mimetype": "text/x-python",
   "name": "python",
   "nbconvert_exporter": "python",
   "pygments_lexer": "ipython3",
   "version": "3.11.5"
  }
 },
 "nbformat": 4,
 "nbformat_minor": 5
}
