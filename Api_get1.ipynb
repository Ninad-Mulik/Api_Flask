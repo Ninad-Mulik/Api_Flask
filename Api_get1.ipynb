{
 "cells": [
  {
   "cell_type": "code",
   "execution_count": 1,
   "id": "c6805c10",
   "metadata": {},
   "outputs": [],
   "source": [
    "from flask import Flask                #  importing the flask"
   ]
  },
  {
   "cell_type": "code",
   "execution_count": 2,
   "id": "837ce28f",
   "metadata": {},
   "outputs": [],
   "source": [
    "add = Flask(__name__)                   # created the falsk app instance  "
   ]
  },
  {
   "cell_type": "code",
   "execution_count": 3,
   "id": "39189453",
   "metadata": {},
   "outputs": [],
   "source": [
    "@add.route('/')                          # routing to default\n",
    "def nothin():\n",
    "    return 'nothing here'"
   ]
  },
  {
   "cell_type": "code",
   "execution_count": 4,
   "id": "955673d6",
   "metadata": {},
   "outputs": [],
   "source": [
    "@add.route('/palindrome')                # routing to the /palindrome\n",
    "def palindrome():                         # function defined\n",
    "    string='level'\n",
    "\n",
    "    reverse = string[::-1]               # the following string is reversed by the inbuilt function\n",
    "    if reverse == string:                 # comparison of the the variables\n",
    "        return 'it is a palindrome'        # return the outcome\n",
    "    else:\n",
    "        return 'not'"
   ]
  },
  {
   "cell_type": "code",
   "execution_count": 5,
   "id": "2a4d17a6",
   "metadata": {},
   "outputs": [],
   "source": [
    "@add.route('/watzthisallfor')            \n",
    "def ans(): \n",
    "    return 'idk'"
   ]
  },
  {
   "cell_type": "code",
   "execution_count": 6,
   "id": "5fd364ef",
   "metadata": {},
   "outputs": [
    {
     "name": "stdout",
     "output_type": "stream",
     "text": [
      " * Serving Flask app '__main__'\n",
      " * Debug mode: off\n"
     ]
    },
    {
     "name": "stderr",
     "output_type": "stream",
     "text": [
      "WARNING: This is a development server. Do not use it in a production deployment. Use a production WSGI server instead.\n",
      " * Running on http://127.0.0.1:5000\n",
      "Press CTRL+C to quit\n",
      "127.0.0.1 - - [02/Apr/2024 22:54:24] \"GET / HTTP/1.1\" 200 -\n",
      "127.0.0.1 - - [02/Apr/2024 22:54:24] \"GET /favicon.ico HTTP/1.1\" 404 -\n",
      "127.0.0.1 - - [02/Apr/2024 23:00:07] \"GET / HTTP/1.1\" 200 -\n",
      "127.0.0.1 - - [02/Apr/2024 23:01:10] \"POST / HTTP/1.1\" 405 -\n"
     ]
    }
   ],
   "source": [
    "if __name__ == '__main__':               # condition to wat main method should be executed      \n",
    "    add.run(port=5000)"
   ]
  },
  {
   "cell_type": "code",
   "execution_count": null,
   "id": "70666641",
   "metadata": {},
   "outputs": [],
   "source": []
  },
  {
   "cell_type": "code",
   "execution_count": null,
   "id": "b81224e4",
   "metadata": {},
   "outputs": [],
   "source": []
  },
  {
   "cell_type": "code",
   "execution_count": null,
   "id": "fa0226bd",
   "metadata": {},
   "outputs": [],
   "source": []
  }
 ],
 "metadata": {
  "kernelspec": {
   "display_name": "Python 3 (ipykernel)",
   "language": "python",
   "name": "python3"
  },
  "language_info": {
   "codemirror_mode": {
    "name": "ipython",
    "version": 3
   },
   "file_extension": ".py",
   "mimetype": "text/x-python",
   "name": "python",
   "nbconvert_exporter": "python",
   "pygments_lexer": "ipython3",
   "version": "3.11.5"
  }
 },
 "nbformat": 4,
 "nbformat_minor": 5
}
