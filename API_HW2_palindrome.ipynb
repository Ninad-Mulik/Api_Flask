{
 "cells": [
  {
   "cell_type": "code",
   "execution_count": 1,
   "id": "efb3c158",
   "metadata": {},
   "outputs": [],
   "source": [
    "from flask import Flask,request"
   ]
  },
  {
   "cell_type": "code",
   "execution_count": 2,
   "id": "8ec1a15e",
   "metadata": {},
   "outputs": [],
   "source": [
    "app = Flask(__name__)"
   ]
  },
  {
   "cell_type": "code",
   "execution_count": 3,
   "id": "394b4d71",
   "metadata": {},
   "outputs": [],
   "source": [
    "@app.route('/',methods=['POST','GET'])\n",
    "def check_pal():\n",
    "    if request.method == 'POST':\n",
    "        data = request.get_json()\n",
    "        if 'string' in data:\n",
    "            stringg = data['string']\n",
    "            return is_pal(stringg)\n",
    "                \n",
    "    elif request.method == 'GET':\n",
    "        return \"yuh'd be Golden..!!\""
   ]
  },
  {
   "cell_type": "code",
   "execution_count": 4,
   "id": "67010c74",
   "metadata": {},
   "outputs": [],
   "source": [
    "def is_pal(stringg):\n",
    "    stringg_rev = stringg[::-1]\n",
    "    if stringg == stringg_rev:\n",
    "        return 'Palindrome..'\n",
    "    else:\n",
    "        return 'Not pal..'"
   ]
  },
  {
   "cell_type": "code",
   "execution_count": null,
   "id": "67881636",
   "metadata": {},
   "outputs": [
    {
     "name": "stdout",
     "output_type": "stream",
     "text": [
      " * Serving Flask app '__main__'\n",
      " * Debug mode: off\n"
     ]
    },
    {
     "name": "stderr",
     "output_type": "stream",
     "text": [
      "WARNING: This is a development server. Do not use it in a production deployment. Use a production WSGI server instead.\n",
      " * Running on http://127.0.0.1:9999\n",
      "Press CTRL+C to quit\n",
      "127.0.0.1 - - [23/Apr/2024 00:53:44] \"POST / HTTP/1.1\" 400 -\n",
      "127.0.0.1 - - [23/Apr/2024 00:53:52] \"POST / HTTP/1.1\" 200 -\n",
      "[2024-04-23 00:54:51,041] ERROR in app: Exception on / [POST]\n",
      "Traceback (most recent call last):\n",
      "  File \"C:\\Anaconda\\Lib\\site-packages\\flask\\app.py\", line 2525, in wsgi_app\n",
      "    response = self.full_dispatch_request()\n",
      "               ^^^^^^^^^^^^^^^^^^^^^^^^^^^^\n",
      "  File \"C:\\Anaconda\\Lib\\site-packages\\flask\\app.py\", line 1822, in full_dispatch_request\n",
      "    rv = self.handle_user_exception(e)\n",
      "         ^^^^^^^^^^^^^^^^^^^^^^^^^^^^^\n",
      "  File \"C:\\Anaconda\\Lib\\site-packages\\flask\\app.py\", line 1820, in full_dispatch_request\n",
      "    rv = self.dispatch_request()\n",
      "         ^^^^^^^^^^^^^^^^^^^^^^^\n",
      "  File \"C:\\Anaconda\\Lib\\site-packages\\flask\\app.py\", line 1796, in dispatch_request\n",
      "    return self.ensure_sync(self.view_functions[rule.endpoint])(**view_args)\n",
      "           ^^^^^^^^^^^^^^^^^^^^^^^^^^^^^^^^^^^^^^^^^^^^^^^^^^^^^^^^^^^^^^^^^\n",
      "  File \"C:\\Users\\NINAD MULIK\\AppData\\Local\\Temp\\ipykernel_12404\\978440081.py\", line 6, in check_pal\n",
      "    stringg = data['string']\n",
      "              ~~~~^^^^^^^^^^\n",
      "TypeError: string indices must be integers, not 'str'\n",
      "127.0.0.1 - - [23/Apr/2024 00:54:51] \"POST / HTTP/1.1\" 500 -\n",
      "127.0.0.1 - - [23/Apr/2024 00:55:07] \"POST / HTTP/1.1\" 200 -\n"
     ]
    }
   ],
   "source": [
    "if __name__ == '__main__':\n",
    "    app.run(port=9999)"
   ]
  },
  {
   "cell_type": "code",
   "execution_count": null,
   "id": "02e40cf5",
   "metadata": {},
   "outputs": [],
   "source": []
  }
 ],
 "metadata": {
  "kernelspec": {
   "display_name": "Python 3 (ipykernel)",
   "language": "python",
   "name": "python3"
  },
  "language_info": {
   "codemirror_mode": {
    "name": "ipython",
    "version": 3
   },
   "file_extension": ".py",
   "mimetype": "text/x-python",
   "name": "python",
   "nbconvert_exporter": "python",
   "pygments_lexer": "ipython3",
   "version": "3.11.5"
  }
 },
 "nbformat": 4,
 "nbformat_minor": 5
}
