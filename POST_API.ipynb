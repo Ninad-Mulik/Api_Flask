{
 "cells": [
  {
   "cell_type": "code",
   "execution_count": 1,
   "id": "8d4f6867",
   "metadata": {},
   "outputs": [],
   "source": [
    "from flask import Flask"
   ]
  },
  {
   "cell_type": "code",
   "execution_count": 2,
   "id": "2e1a094c",
   "metadata": {},
   "outputs": [],
   "source": [
    "post_new = Flask(__name__)"
   ]
  },
  {
   "cell_type": "code",
   "execution_count": 4,
   "id": "6762eec7",
   "metadata": {},
   "outputs": [],
   "source": [
    "@post_new.route('/',methods=[\"POST\"])\n",
    "def palindrome(string):\n",
    "    if request.methods == 'POST':\n",
    "        reverse_string = string[::-1]\n",
    "        if reverse_string == string:\n",
    "            return ('it is a palindrome')\n",
    "        else:\n",
    "            return ('itz not brugh!!')"
   ]
  },
  {
   "cell_type": "code",
   "execution_count": null,
   "id": "83046667",
   "metadata": {},
   "outputs": [
    {
     "name": "stdout",
     "output_type": "stream",
     "text": [
      " * Serving Flask app '__main__'\n",
      " * Debug mode: off\n"
     ]
    },
    {
     "name": "stderr",
     "output_type": "stream",
     "text": [
      "WARNING: This is a development server. Do not use it in a production deployment. Use a production WSGI server instead.\n",
      " * Running on http://127.0.0.1:9999\n",
      "Press CTRL+C to quit\n",
      "127.0.0.1 - - [03/Apr/2024 00:26:52] \"GET / HTTP/1.1\" 405 -\n",
      "127.0.0.1 - - [03/Apr/2024 00:30:41] \"GET / HTTP/1.1\" 405 -\n"
     ]
    }
   ],
   "source": [
    "if __name__ == '__main__':\n",
    "    post_new.run(port=9999)"
   ]
  },
  {
   "cell_type": "code",
   "execution_count": null,
   "id": "1243e79b",
   "metadata": {},
   "outputs": [],
   "source": []
  }
 ],
 "metadata": {
  "kernelspec": {
   "display_name": "Python 3 (ipykernel)",
   "language": "python",
   "name": "python3"
  },
  "language_info": {
   "codemirror_mode": {
    "name": "ipython",
    "version": 3
   },
   "file_extension": ".py",
   "mimetype": "text/x-python",
   "name": "python",
   "nbconvert_exporter": "python",
   "pygments_lexer": "ipython3",
   "version": "3.11.5"
  }
 },
 "nbformat": 4,
 "nbformat_minor": 5
}
