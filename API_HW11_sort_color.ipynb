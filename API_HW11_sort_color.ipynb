{
 "cells": [
  {
   "cell_type": "code",
   "execution_count": null,
   "id": "61601f2a",
   "metadata": {},
   "outputs": [],
   "source": [
    "from flask import Flask,request"
   ]
  },
  {
   "cell_type": "code",
   "execution_count": null,
   "id": "d6884d58",
   "metadata": {},
   "outputs": [],
   "source": [
    "app = Flask(__name__)"
   ]
  },
  {
   "cell_type": "code",
   "execution_count": null,
   "id": "a611b8e7",
   "metadata": {},
   "outputs": [],
   "source": [
    "@app.route('/',methods=['Post'])\n",
    "def "
   ]
  },
  {
   "cell_type": "code",
   "execution_count": null,
   "id": "f367fbb7",
   "metadata": {},
   "outputs": [],
   "source": [
    "def sort_color(List):\n",
    "    right = 0\n",
    "    left = -1\n",
    "    while(right>left):\n",
    "        if listt[right] < listt[left]:\n",
    "            listt[right],listt[left] = listt[left],listt[right]\n",
    "            right +=1\n",
    "            left -=1\n",
    "    return "
   ]
  },
  {
   "cell_type": "code",
   "execution_count": null,
   "id": "30475f63",
   "metadata": {},
   "outputs": [],
   "source": [
    "if __name__ == '__main__':\n",
    "    app.run(port=4567)"
   ]
  },
  {
   "cell_type": "code",
   "execution_count": 16,
   "id": "2e5f18e5",
   "metadata": {},
   "outputs": [
    {
     "name": "stdout",
     "output_type": "stream",
     "text": [
      "[0, 3, 5, 0, 1]\n",
      "[0, 1, 5, 0, 3]\n",
      "[0, 1, 3, 0, 5]\n",
      "[0, 1, 3, 0, 5]\n",
      "[0, 1, 3, 5, 0]\n"
     ]
    }
   ],
   "source": [
    "\n",
    "listt = [1,3,5,0,0]\n",
    "\n",
    "right = 0\n",
    "left = len(listt)-1\n",
    "\n",
    "for i in range(0,len(listt)):\n",
    "    if listt[right] > listt[left]:\n",
    "        \n",
    "        listt[right],listt[left] = listt[left],listt[right]\n",
    "        right +=1\n",
    "\n",
    "    else:\n",
    "        right +=1\n",
    "        left -=1\n",
    "    print(listt)\n",
    "        \n"
   ]
  },
  {
   "cell_type": "code",
   "execution_count": 17,
   "id": "cfaf3add",
   "metadata": {},
   "outputs": [],
   "source": [
    "listt = [1,3,5,0,0]"
   ]
  },
  {
   "cell_type": "code",
   "execution_count": 18,
   "id": "59ec28a0",
   "metadata": {},
   "outputs": [
    {
     "data": {
      "text/plain": [
       "[1, 3, 5, 0, 0]"
      ]
     },
     "execution_count": 18,
     "metadata": {},
     "output_type": "execute_result"
    }
   ],
   "source": [
    "count = 0\n",
    "right = 0\n",
    "left = len(listt)-1\n",
    "\n",
    "for i in range(len(listt)):\n",
    "    \n",
    "    if count > listt[i]:\n",
    "        count = listt[i]\n",
    "        \n",
    "        listt[i] = count\n",
    "        \n",
    "        "
   ]
  },
  {
   "cell_type": "code",
   "execution_count": null,
   "id": "b146cb77",
   "metadata": {},
   "outputs": [],
   "source": []
  }
 ],
 "metadata": {
  "kernelspec": {
   "display_name": "Python 3 (ipykernel)",
   "language": "python",
   "name": "python3"
  },
  "language_info": {
   "codemirror_mode": {
    "name": "ipython",
    "version": 3
   },
   "file_extension": ".py",
   "mimetype": "text/x-python",
   "name": "python",
   "nbconvert_exporter": "python",
   "pygments_lexer": "ipython3",
   "version": "3.11.5"
  }
 },
 "nbformat": 4,
 "nbformat_minor": 5
}
