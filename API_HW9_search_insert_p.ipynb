{
 "cells": [
  {
   "cell_type": "code",
   "execution_count": 1,
   "id": "ae338544",
   "metadata": {},
   "outputs": [],
   "source": [
    "from flask import Flask,request"
   ]
  },
  {
   "cell_type": "code",
   "execution_count": 2,
   "id": "11922e34",
   "metadata": {},
   "outputs": [],
   "source": [
    "app = Flask(__name__)"
   ]
  },
  {
   "cell_type": "code",
   "execution_count": 3,
   "id": "10689417",
   "metadata": {},
   "outputs": [],
   "source": [
    "@app.route('/',methods=['Post'])\n",
    "def search_insert_p():\n",
    "    if request.method == 'Post':\n",
    "        list1 = int(request.form.get('list1'))\n",
    "        n = int(request.form.get('n'))\n",
    "        \n",
    "        list_count = liste(list1,n)\n",
    "        \n",
    "        return [list_count]"
   ]
  },
  {
   "cell_type": "code",
   "execution_count": 4,
   "id": "26cb5350",
   "metadata": {},
   "outputs": [],
   "source": [
    "def liste(list1,n):\n",
    "    for i in list1:\n",
    "        if i == n:\n",
    "            return i"
   ]
  },
  {
   "cell_type": "code",
   "execution_count": null,
   "id": "ce1cb734",
   "metadata": {},
   "outputs": [
    {
     "name": "stdout",
     "output_type": "stream",
     "text": [
      " * Serving Flask app '__main__'\n",
      " * Debug mode: off\n"
     ]
    },
    {
     "name": "stderr",
     "output_type": "stream",
     "text": [
      "WARNING: This is a development server. Do not use it in a production deployment. Use a production WSGI server instead.\n",
      " * Running on http://127.0.0.1:2546\n",
      "Press CTRL+C to quit\n"
     ]
    }
   ],
   "source": [
    "if __name__ == '__main__':\n",
    "    app.run(port=2546)"
   ]
  },
  {
   "cell_type": "code",
   "execution_count": 3,
   "id": "13b92d29",
   "metadata": {},
   "outputs": [
    {
     "ename": "SyntaxError",
     "evalue": "invalid syntax (232385035.py, line 4)",
     "output_type": "error",
     "traceback": [
      "\u001b[1;36m  Cell \u001b[1;32mIn[3], line 4\u001b[1;36m\u001b[0m\n\u001b[1;33m    for i in range(len(list1):\u001b[0m\n\u001b[1;37m                             ^\u001b[0m\n\u001b[1;31mSyntaxError\u001b[0m\u001b[1;31m:\u001b[0m invalid syntax\n"
     ]
    }
   ],
   "source": [
    "list1 = [1,2,6,4]\n",
    "n=6\n",
    "def liste(list1,n):\n",
    "    for i in range(len(list1):\n",
    "        if list1[i] == n:\n",
    "            return i"
   ]
  },
  {
   "cell_type": "code",
   "execution_count": 2,
   "id": "b9692d77",
   "metadata": {},
   "outputs": [
    {
     "data": {
      "text/plain": [
       "6"
      ]
     },
     "execution_count": 2,
     "metadata": {},
     "output_type": "execute_result"
    }
   ],
   "source": [
    "liste(list1,n)"
   ]
  },
  {
   "cell_type": "code",
   "execution_count": null,
   "id": "ee4c6d75",
   "metadata": {},
   "outputs": [],
   "source": []
  }
 ],
 "metadata": {
  "kernelspec": {
   "display_name": "Python 3 (ipykernel)",
   "language": "python",
   "name": "python3"
  },
  "language_info": {
   "codemirror_mode": {
    "name": "ipython",
    "version": 3
   },
   "file_extension": ".py",
   "mimetype": "text/x-python",
   "name": "python",
   "nbconvert_exporter": "python",
   "pygments_lexer": "ipython3",
   "version": "3.11.5"
  }
 },
 "nbformat": 4,
 "nbformat_minor": 5
}
