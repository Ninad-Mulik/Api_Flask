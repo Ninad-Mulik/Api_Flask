{
 "cells": [
  {
   "cell_type": "code",
   "execution_count": 1,
   "id": "6a91b84c",
   "metadata": {},
   "outputs": [],
   "source": [
    "from flask import Flask"
   ]
  },
  {
   "cell_type": "code",
   "execution_count": null,
   "id": "1dbc25be",
   "metadata": {},
   "outputs": [],
   "source": [
    "app = Flask(__name__)"
   ]
  },
  {
   "cell_type": "code",
   "execution_count": null,
   "id": "7bf551d9",
   "metadata": {},
   "outputs": [],
   "source": [
    "@app.route('/',methods=['Post'])\n",
    "def "
   ]
  },
  {
   "cell_type": "code",
   "execution_count": null,
   "id": "0c69f3be",
   "metadata": {},
   "outputs": [],
   "source": [
    "def "
   ]
  },
  {
   "cell_type": "code",
   "execution_count": null,
   "id": "24217255",
   "metadata": {},
   "outputs": [],
   "source": [
    "if __main__ == '__name__':\n",
    "    app.run(port=9632)"
   ]
  },
  {
   "cell_type": "code",
   "execution_count": null,
   "id": "e528c1c3",
   "metadata": {},
   "outputs": [],
   "source": [
    "Given a string s, return the longest \n",
    "palindromic\n",
    "\n",
    "substring\n",
    " in s.\n",
    "Example 1:\n",
    "\n",
    "Input: s = \"babad\"\n",
    "Output: \"bab\"\n",
    "Explanation: \"aba\" is also a valid answer.\n",
    "Example 2:\n",
    "\n",
    "Input: s = \"cbbd\"\n",
    "Output: \"bb\""
   ]
  },
  {
   "cell_type": "code",
   "execution_count": null,
   "id": "3f8fb237",
   "metadata": {},
   "outputs": [],
   "source": [
    "s = \"badabad\"\n",
    "n = 0\n",
    "k = 1\n",
    "stored = []\n",
    "check_pal = []\n",
    "\n",
    "def longest_pal(n,s):\n",
    "    for i in range(len(s)):\n",
    "        for j in range(k,len(s)):\n",
    "            start = 1\n",
    "            stop = j-1\n",
    "            if s[i] == s[i+1] and s[i]!= s[-1]:\n",
    "                check_pal.append(s[i])\n",
    "                check_pal.append(s[i+1])\n",
    "                \n",
    "                stored = stored.append(check_pal)\n",
    "                \n",
    "                \n",
    "                \n",
    "            if s[i] == s[j] and s[i]!= s:\n",
    "                if s[i-start]==s[j-stop]:\n",
    "                    \n",
    "                check_pal.append(i)\n",
    "                check_pal.append(j)\n",
    "                "
   ]
  }
 ],
 "metadata": {
  "kernelspec": {
   "display_name": "Python 3 (ipykernel)",
   "language": "python",
   "name": "python3"
  },
  "language_info": {
   "codemirror_mode": {
    "name": "ipython",
    "version": 3
   },
   "file_extension": ".py",
   "mimetype": "text/x-python",
   "name": "python",
   "nbconvert_exporter": "python",
   "pygments_lexer": "ipython3",
   "version": "3.11.5"
  }
 },
 "nbformat": 4,
 "nbformat_minor": 5
}
