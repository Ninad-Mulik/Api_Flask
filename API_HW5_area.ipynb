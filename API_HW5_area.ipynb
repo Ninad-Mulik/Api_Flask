{
 "cells": [
  {
   "cell_type": "code",
   "execution_count": 1,
   "id": "09144fc2",
   "metadata": {},
   "outputs": [],
   "source": [
    "from flask import Flask,request"
   ]
  },
  {
   "cell_type": "code",
   "execution_count": 2,
   "id": "7d004e21",
   "metadata": {},
   "outputs": [],
   "source": [
    "app = Flask(__name__)"
   ]
  },
  {
   "cell_type": "code",
   "execution_count": 3,
   "id": "e1eb0bd8",
   "metadata": {},
   "outputs": [],
   "source": [
    "@app.route('/',methods = ['POST','GET'])\n",
    "def quads():\n",
    "    \n",
    "    if request.method == 'POST':\n",
    "       \n",
    "        l = int(request.form.get('l'))\n",
    "        b = int(request.form.get('b'))\n",
    "        \n",
    "        AREA = area_of_triangle(l,b)\n",
    "        return ['Area is : ',AREA]\n",
    "\n",
    "    elif request.method == 'GET':\n",
    "        \n",
    "        l = int(request.form.get('l'))\n",
    "        b = int(request.form.get('b'))\n",
    "        \n",
    "        AREA = area_of_triangle(l,b)\n",
    "        Area = int(AREA)\n",
    "        return ('AREA OF TRIANGLE IS :{}'.format(Area),240)\n"
   ]
  },
  {
   "cell_type": "code",
   "execution_count": 4,
   "id": "5e7ebfdd",
   "metadata": {},
   "outputs": [],
   "source": [
    "def area_of_triangle(l,b):\n",
    "    area = (l*b)/2\n",
    "    return area"
   ]
  },
  {
   "cell_type": "code",
   "execution_count": null,
   "id": "006859fc",
   "metadata": {},
   "outputs": [
    {
     "name": "stdout",
     "output_type": "stream",
     "text": [
      " * Serving Flask app '__main__'\n",
      " * Debug mode: off\n"
     ]
    },
    {
     "name": "stderr",
     "output_type": "stream",
     "text": [
      "WARNING: This is a development server. Do not use it in a production deployment. Use a production WSGI server instead.\n",
      " * Running on http://127.0.0.1:5656\n",
      "Press CTRL+C to quit\n",
      "127.0.0.1 - - [18/Apr/2024 00:00:28] \"GET / HTTP/1.1\" 240 -\n"
     ]
    }
   ],
   "source": [
    "if __name__ == '__main__':\n",
    "    app.run(port=5656)"
   ]
  },
  {
   "cell_type": "code",
   "execution_count": null,
   "id": "c2e7c169",
   "metadata": {},
   "outputs": [],
   "source": []
  }
 ],
 "metadata": {
  "kernelspec": {
   "display_name": "Python 3 (ipykernel)",
   "language": "python",
   "name": "python3"
  },
  "language_info": {
   "codemirror_mode": {
    "name": "ipython",
    "version": 3
   },
   "file_extension": ".py",
   "mimetype": "text/x-python",
   "name": "python",
   "nbconvert_exporter": "python",
   "pygments_lexer": "ipython3",
   "version": "3.11.5"
  }
 },
 "nbformat": 4,
 "nbformat_minor": 5
}
