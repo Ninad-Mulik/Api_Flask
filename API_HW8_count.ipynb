{
 "cells": [
  {
   "cell_type": "code",
   "execution_count": 1,
   "id": "691bbd16",
   "metadata": {},
   "outputs": [],
   "source": [
    "from flask import Flask,request"
   ]
  },
  {
   "cell_type": "code",
   "execution_count": 2,
   "id": "5a066858",
   "metadata": {},
   "outputs": [],
   "source": [
    "app = Flask(__name__)"
   ]
  },
  {
   "cell_type": "code",
   "execution_count": 3,
   "id": "66513a87",
   "metadata": {},
   "outputs": [],
   "source": [
    "@app.route('/',methods=['POST'])\n",
    "def counting():\n",
    "    if request.method == 'POST':\n",
    "        \n",
    "        string = request.form.get('string')\n",
    "        \n",
    "        Counts = last_words(string)\n",
    "        \n",
    "        return [Counts]\n",
    "        "
   ]
  },
  {
   "cell_type": "code",
   "execution_count": 4,
   "id": "a3829369",
   "metadata": {},
   "outputs": [],
   "source": [
    "def last_words(string):\n",
    "    count = 0\n",
    "    for i in string:\n",
    "        count+=1\n",
    "        \n",
    "    return str(count)"
   ]
  },
  {
   "cell_type": "code",
   "execution_count": null,
   "id": "a425c14c",
   "metadata": {},
   "outputs": [
    {
     "name": "stdout",
     "output_type": "stream",
     "text": [
      " * Serving Flask app '__main__'\n",
      " * Debug mode: off\n"
     ]
    },
    {
     "name": "stderr",
     "output_type": "stream",
     "text": [
      "WARNING: This is a development server. Do not use it in a production deployment. Use a production WSGI server instead.\n",
      " * Running on http://127.0.0.1:1236\n",
      "Press CTRL+C to quit\n",
      "127.0.0.1 - - [18/Apr/2024 23:38:35] \"POST / HTTP/1.1\" 200 -\n"
     ]
    }
   ],
   "source": [
    "if __name__ == '__main__':\n",
    "    app.run(port=1236)"
   ]
  }
 ],
 "metadata": {
  "kernelspec": {
   "display_name": "Python 3 (ipykernel)",
   "language": "python",
   "name": "python3"
  },
  "language_info": {
   "codemirror_mode": {
    "name": "ipython",
    "version": 3
   },
   "file_extension": ".py",
   "mimetype": "text/x-python",
   "name": "python",
   "nbconvert_exporter": "python",
   "pygments_lexer": "ipython3",
   "version": "3.11.5"
  }
 },
 "nbformat": 4,
 "nbformat_minor": 5
}
