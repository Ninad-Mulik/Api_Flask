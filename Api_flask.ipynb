{
 "cells": [
  {
   "cell_type": "code",
   "execution_count": null,
   "id": "5654a5ee",
   "metadata": {},
   "outputs": [],
   "source": [
    "! pip install flask"
   ]
  },
  {
   "cell_type": "code",
   "execution_count": 1,
   "id": "369ee508",
   "metadata": {},
   "outputs": [],
   "source": [
    "from flask import Flask"
   ]
  },
  {
   "cell_type": "code",
   "execution_count": 2,
   "id": "32879e1f",
   "metadata": {},
   "outputs": [],
   "source": [
    "lost = Flask(__name__)"
   ]
  },
  {
   "cell_type": "code",
   "execution_count": 3,
   "id": "5ef508b2",
   "metadata": {},
   "outputs": [],
   "source": [
    "@lost.route('/')\n",
    "def how_do_i_get_here():\n",
    "   \n",
    "    return (\"lost again\")"
   ]
  },
  {
   "cell_type": "code",
   "execution_count": 4,
   "id": "c873b5ac",
   "metadata": {},
   "outputs": [],
   "source": [
    "@lost.route('/ndFound')\n",
    "def where_do_i_go_now():\n",
    "    return \"lost nd found\""
   ]
  },
  {
   "cell_type": "code",
   "execution_count": 5,
   "id": "cd0c7229",
   "metadata": {},
   "outputs": [],
   "source": [
    "@lost.route('/calculate')\n",
    "def sum_up():\n",
    "    return "
   ]
  },
  {
   "cell_type": "code",
   "execution_count": null,
   "id": "88f1d6b6",
   "metadata": {},
   "outputs": [
    {
     "name": "stdout",
     "output_type": "stream",
     "text": [
      " * Serving Flask app '__main__'\n",
      " * Debug mode: off\n"
     ]
    },
    {
     "name": "stderr",
     "output_type": "stream",
     "text": [
      "WARNING: This is a development server. Do not use it in a production deployment. Use a production WSGI server instead.\n",
      " * Running on http://127.0.0.1:5050\n",
      "Press CTRL+C to quit\n",
      "127.0.0.1 - - [30/Mar/2024 15:12:53] \"GET / HTTP/1.1\" 200 -\n"
     ]
    }
   ],
   "source": [
    "if __name__ == \"__main__\":\n",
    "    lost.run(port=5050)"
   ]
  },
  {
   "cell_type": "code",
   "execution_count": null,
   "id": "4c2ec241",
   "metadata": {},
   "outputs": [],
   "source": []
  },
  {
   "cell_type": "code",
   "execution_count": null,
   "id": "60e93409",
   "metadata": {},
   "outputs": [],
   "source": []
  }
 ],
 "metadata": {
  "kernelspec": {
   "display_name": "Python 3 (ipykernel)",
   "language": "python",
   "name": "python3"
  },
  "language_info": {
   "codemirror_mode": {
    "name": "ipython",
    "version": 3
   },
   "file_extension": ".py",
   "mimetype": "text/x-python",
   "name": "python",
   "nbconvert_exporter": "python",
   "pygments_lexer": "ipython3",
   "version": "3.11.5"
  }
 },
 "nbformat": 4,
 "nbformat_minor": 5
}
